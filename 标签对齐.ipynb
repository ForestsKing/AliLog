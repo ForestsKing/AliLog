{
 "cells": [
  {
   "cell_type": "code",
   "execution_count": 1,
   "id": "b9b921e3",
   "metadata": {},
   "outputs": [],
   "source": [
    "import pandas as pd\n",
    "\n",
    "from tqdm import tqdm\n",
    "tqdm.pandas()"
   ]
  },
  {
   "cell_type": "code",
   "execution_count": 2,
   "id": "b58b5653",
   "metadata": {},
   "outputs": [],
   "source": [
    "def getLogID(log, sn, fault_time):\n",
    "    day2sec = 24*60*60\n",
    "    tmp = log[(log['sn']==sn)].copy(deep=True)\n",
    "    tmp['delta'] = tmp['timestamp'].apply(lambda x: abs((fault_time-x).total_seconds()))\n",
    "    tmp = tmp[tmp['delta'] <= tmp['delta'].min() + day2sec]\n",
    "    \n",
    "    tmp = tmp.sort_values('timestamp')\n",
    "    \n",
    "    LogID = tmp.index\n",
    "    LogID = ' '.join(str(i) for i in LogID)\n",
    "    return LogID"
   ]
  },
  {
   "cell_type": "code",
   "execution_count": 3,
   "id": "09bfc90d",
   "metadata": {},
   "outputs": [
    {
     "name": "stderr",
     "output_type": "stream",
     "text": [
      "100%|█████████████████████████████████████| 16669/16669 [04:57<00:00, 56.00it/s]\n"
     ]
    }
   ],
   "source": [
    "train = pd.read_csv('./dataset/v1/train.csv')\n",
    "train['timestamp'] = pd.to_datetime(train['timestamp'])\n",
    "\n",
    "label = pd.concat([pd.read_csv('./dataset/src/preliminary_train_label_dataset.csv'), \n",
    "                  pd.read_csv('./dataset/src/preliminary_train_label_dataset_s.csv')])\n",
    "label['fault_time'] = pd.to_datetime(label['fault_time'])\n",
    "\n",
    "label['LogID'] = label.progress_apply(lambda x: getLogID(train, x['sn'], x['fault_time']), axis=1)\n",
    "label.to_csv('./dataset/v1/label.csv', index=False)"
   ]
  },
  {
   "cell_type": "code",
   "execution_count": 4,
   "id": "d04e3e79",
   "metadata": {},
   "outputs": [
    {
     "name": "stderr",
     "output_type": "stream",
     "text": [
      "100%|██████████████████████████████████████| 3030/3030 [00:03<00:00, 983.97it/s]\n"
     ]
    }
   ],
   "source": [
    "test = pd.read_csv('./dataset/v1/test.csv')\n",
    "test['timestamp'] = pd.to_datetime(test['timestamp'])\n",
    "\n",
    "submit = pd.read_csv('./dataset/src/preliminary_submit_dataset_b.csv')\n",
    "submit['fault_time'] = pd.to_datetime(submit['fault_time'])\n",
    "\n",
    "submit['LogID'] = submit.progress_apply(lambda x: getLogID(test, x['sn'], x['fault_time']), axis=1)\n",
    "submit.to_csv('./dataset/v1/submit.csv', index=False)"
   ]
  },
  {
   "cell_type": "code",
   "execution_count": null,
   "id": "c0ce8ec6",
   "metadata": {},
   "outputs": [],
   "source": []
  }
 ],
 "metadata": {
  "kernelspec": {
   "display_name": "Python [conda env:py39]",
   "language": "python",
   "name": "py39"
  },
  "language_info": {
   "codemirror_mode": {
    "name": "ipython",
    "version": 3
   },
   "file_extension": ".py",
   "mimetype": "text/x-python",
   "name": "python",
   "nbconvert_exporter": "python",
   "pygments_lexer": "ipython3",
   "version": "3.9.6"
  }
 },
 "nbformat": 4,
 "nbformat_minor": 5
}
