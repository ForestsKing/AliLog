{
 "cells": [
  {
   "cell_type": "code",
   "execution_count": 1,
   "id": "29ee147e",
   "metadata": {},
   "outputs": [],
   "source": [
    "import pandas as pd\n",
    "import numpy as np\n",
    "\n",
    "import warnings\n",
    "warnings.filterwarnings(\"ignore\")\n",
    "\n",
    "from tqdm import tqdm\n",
    "tqdm.pandas()"
   ]
  },
  {
   "cell_type": "code",
   "execution_count": 2,
   "id": "e474f510",
   "metadata": {},
   "outputs": [],
   "source": [
    "template = pd.read_csv('./dataset/v1/log.log_templates.csv')\n",
    "n_template = len(template)"
   ]
  },
  {
   "cell_type": "code",
   "execution_count": 3,
   "id": "a747722c",
   "metadata": {},
   "outputs": [],
   "source": [
    "def getEmbedding(log,logid, num):\n",
    "    logid = list(map(int, logid.split(' ')))\n",
    "    templateid = log['EventId'].values[logid]\n",
    "    \n",
    "    templateid = np.eye(num)[templateid]\n",
    "    templateid = templateid.max(axis=0)\n",
    "    return templateid"
   ]
  },
  {
   "cell_type": "code",
   "execution_count": 4,
   "id": "274465a4",
   "metadata": {},
   "outputs": [],
   "source": [
    "def getTimeFeature(log, fault_time, logid):\n",
    "    logid = list(map(int, logid.split(' ')))\n",
    "    df = log.iloc[logid, :][['timestamp']]\n",
    "    df = df.sort_values('timestamp')\n",
    "    \n",
    "    df['delta'] = df['timestamp'].apply(lambda x: (x-fault_time).total_seconds())\n",
    "    df['delta_diff'] = df['delta'].diff(1)\n",
    "    \n",
    "    min_delta = np.min(np.abs(df['delta'].values))\n",
    "    max_delta = np.max(np.abs(df['delta'].values))\n",
    "    mean_delta = np.mean(np.abs(df['delta'].values))\n",
    "    std_delta = np.std(np.abs(df['delta'].values))\n",
    "    \n",
    "    num_log = len(logid)\n",
    "    span_delta = df['delta'].values[-1]-df['delta'].values[0]\n",
    "    before = df['delta'].values[np.argmin(np.abs(df['delta'].values))] / min_delta\n",
    "    \n",
    "    if num_log > 1:\n",
    "        min_delta_diff = np.min(df['delta_diff'].values[1:])\n",
    "        max_delta_diff = np.max(df['delta_diff'].values[1:])\n",
    "        mean_delta_diff = np.mean(df['delta_diff'].values[1:])\n",
    "        std_delta_diff = np.std(df['delta_diff'].values[1:])\n",
    "    else:\n",
    "        min_delta_diff=0\n",
    "        max_delta_diff=0\n",
    "        mean_delta_diff=0\n",
    "        std_delta_diff=0\n",
    "    \n",
    "    return [num_log, span_delta, before, \n",
    "            min_delta, max_delta, mean_delta, std_delta, \n",
    "            min_delta_diff, max_delta_diff, mean_delta_diff, std_delta_diff]"
   ]
  },
  {
   "cell_type": "code",
   "execution_count": 5,
   "id": "9b0ac181",
   "metadata": {},
   "outputs": [],
   "source": [
    "def getSM(log, logid):\n",
    "    logid = list(map(int, logid.split(' ')))\n",
    "    SM = log.iloc[logid, :]['server_model'].values\n",
    "    \n",
    "    # 返回众数\n",
    "    counts = np.bincount(SM)\n",
    "    SM = np.argmax(counts)\n",
    "    return SM"
   ]
  },
  {
   "cell_type": "code",
   "execution_count": 6,
   "id": "6ae05027",
   "metadata": {},
   "outputs": [
    {
     "name": "stderr",
     "output_type": "stream",
     "text": [
      "100%|██████████████████████████████████| 16669/16669 [00:00<00:00, 62072.60it/s]\n",
      "100%|████████████████████████████████████████| 104/104 [00:00<00:00, 296.26it/s]\n",
      "100%|███████████████████████████████████| 16669/16669 [00:16<00:00, 1039.43it/s]\n",
      "100%|███████████████████████████████████| 16669/16669 [00:01<00:00, 9394.68it/s]\n"
     ]
    }
   ],
   "source": [
    "label = pd.read_csv('./dataset/v1/label.csv')\n",
    "train = pd.read_csv('./dataset/v1/train.csv')\n",
    "\n",
    "label['fault_time'] = pd.to_datetime(label['fault_time'])\n",
    "train['timestamp'] = pd.to_datetime(train['timestamp'])\n",
    "\n",
    "label['EventId'] = label['LogID'].progress_apply(lambda x: getEmbedding(train, x, n_template))\n",
    "for i in tqdm(range(n_template)):\n",
    "    label['Event_Id_'+str(i)] = label['EventId'].apply(lambda x: x[i])\n",
    "\n",
    "label['TimeFeature'] = label.progress_apply(lambda x: getTimeFeature(train, x['fault_time'], x['LogID']),axis=1)\n",
    "\n",
    "label['num_log'] =  label['TimeFeature'].apply(lambda x: x[0])\n",
    "label['span_delta'] =  label['TimeFeature'].apply(lambda x: x[1])\n",
    "label['before'] =  label['TimeFeature'].apply(lambda x: x[2])\n",
    "label['min_delta'] =  label['TimeFeature'].apply(lambda x: x[3])\n",
    "label['max_delta'] =  label['TimeFeature'].apply(lambda x: x[4])\n",
    "label['mean_delta'] =  label['TimeFeature'].apply(lambda x: x[5])\n",
    "label['std_delta'] =  label['TimeFeature'].apply(lambda x: x[6])\n",
    "label['min_delta_diff'] =  label['TimeFeature'].apply(lambda x: x[7])\n",
    "label['max_delta_diff'] =  label['TimeFeature'].apply(lambda x: x[8])\n",
    "label['mean_delta_diff'] =  label['TimeFeature'].apply(lambda x: x[9])\n",
    "label['std_delta_diff'] =  label['TimeFeature'].apply(lambda x: x[10])\n",
    "\n",
    "label['server_model'] = label['LogID'].progress_apply(lambda x: getSM(train, x))\n",
    "\n",
    "label.drop(['LogID', 'EventId', 'TimeFeature'], axis=1, inplace=True)\n",
    "label.to_csv('./dataset/v1/label_pro.csv', index=False)"
   ]
  },
  {
   "cell_type": "code",
   "execution_count": 7,
   "id": "b61852e6",
   "metadata": {},
   "outputs": [
    {
     "name": "stderr",
     "output_type": "stream",
     "text": [
      "100%|███████████████████████████████████| 3030/3030 [00:00<00:00, 107618.20it/s]\n",
      "100%|███████████████████████████████████████| 104/104 [00:00<00:00, 1339.05it/s]\n",
      "100%|█████████████████████████████████████| 3030/3030 [00:02<00:00, 1202.30it/s]\n",
      "100%|█████████████████████████████████████| 3030/3030 [00:00<00:00, 9733.72it/s]\n"
     ]
    }
   ],
   "source": [
    "submit = pd.read_csv('./dataset/v1/submit.csv')\n",
    "test = pd.read_csv('./dataset/v1/test.csv')\n",
    "\n",
    "submit['fault_time'] = pd.to_datetime(submit['fault_time'])\n",
    "test['timestamp'] = pd.to_datetime(test['timestamp'])\n",
    "\n",
    "submit['EventId'] = submit['LogID'].progress_apply(lambda x: getEmbedding(test, x, n_template))\n",
    "for i in tqdm(range(n_template)):\n",
    "    submit['Event_Id_'+str(i)] = submit['EventId'].apply(lambda x: x[i]).copy()\n",
    "    \n",
    "submit['TimeFeature'] = submit.progress_apply(lambda x: getTimeFeature(test, x['fault_time'], x['LogID']),axis=1)\n",
    "\n",
    "submit['num_log'] =  submit['TimeFeature'].apply(lambda x: x[0])\n",
    "submit['span_delta'] =  submit['TimeFeature'].apply(lambda x: x[1])\n",
    "submit['before'] =  submit['TimeFeature'].apply(lambda x: x[2])\n",
    "submit['min_delta'] =  submit['TimeFeature'].apply(lambda x: x[3])\n",
    "submit['max_delta'] =  submit['TimeFeature'].apply(lambda x: x[4])\n",
    "submit['mean_delta'] =  submit['TimeFeature'].apply(lambda x: x[5])\n",
    "submit['std_delta'] =  submit['TimeFeature'].apply(lambda x: x[6])\n",
    "submit['min_delta_diff'] =  submit['TimeFeature'].apply(lambda x: x[7])\n",
    "submit['max_delta_diff'] =  submit['TimeFeature'].apply(lambda x: x[8])\n",
    "submit['mean_delta_diff'] =  submit['TimeFeature'].apply(lambda x: x[9])\n",
    "submit['std_delta_diff'] =  submit['TimeFeature'].apply(lambda x: x[10])\n",
    "\n",
    "submit['server_model'] = submit['LogID'].progress_apply(lambda x: getSM(test, x))\n",
    "\n",
    "submit.drop(['LogID', 'EventId', 'TimeFeature'], axis=1, inplace=True)\n",
    "submit.to_csv('./dataset/v1/submit_pro.csv', index=False)"
   ]
  },
  {
   "cell_type": "code",
   "execution_count": null,
   "id": "2accd4c7",
   "metadata": {},
   "outputs": [],
   "source": []
  }
 ],
 "metadata": {
  "kernelspec": {
   "display_name": "Python [conda env:py39]",
   "language": "python",
   "name": "py39"
  },
  "language_info": {
   "codemirror_mode": {
    "name": "ipython",
    "version": 3
   },
   "file_extension": ".py",
   "mimetype": "text/x-python",
   "name": "python",
   "nbconvert_exporter": "python",
   "pygments_lexer": "ipython3",
   "version": "3.9.6"
  }
 },
 "nbformat": 4,
 "nbformat_minor": 5
}
