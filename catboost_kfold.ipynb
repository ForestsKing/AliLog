{
 "cells": [
  {
   "cell_type": "code",
   "execution_count": 1,
   "id": "845e295b",
   "metadata": {},
   "outputs": [],
   "source": [
    "import numpy as np\n",
    "import pandas as pd\n",
    "from sklearn.model_selection import train_test_split\n",
    "from sklearn.model_selection import KFold\n",
    "from catboost import CatBoostClassifier\n",
    "import matplotlib.pyplot as plt"
   ]
  },
  {
   "cell_type": "code",
   "execution_count": 2,
   "id": "c4e047a2",
   "metadata": {},
   "outputs": [],
   "source": [
    "feature = []\n",
    "for i in range(130):\n",
    "    feature.append('Event_Id_'+str(i))\n",
    "feature.extend(['num_log', 'span_delta', 'before', \n",
    "                'min_delta',  'max_delta', 'mean_delta', 'std_delta', \n",
    "                'min_delta_diff',  'max_delta_diff', 'mean_delta_diff', 'std_delta_diff',\n",
    "                'server_model'])"
   ]
  },
  {
   "cell_type": "code",
   "execution_count": 3,
   "id": "40e716f9",
   "metadata": {},
   "outputs": [],
   "source": [
    "random_seed = 42"
   ]
  },
  {
   "cell_type": "code",
   "execution_count": 4,
   "id": "d2247275",
   "metadata": {},
   "outputs": [],
   "source": [
    "data  = pd.read_csv('./dataset/v1/label_pro.csv')\n",
    "X = data[feature].values\n",
    "y = data['label'].values\n",
    "sn = data['sn'].values\n",
    "fault_time = data['fault_time'].values\n",
    "\n",
    "test  = pd.read_csv('./dataset/v1/submit_pro.csv')[feature].values\n",
    "\n",
    "kf = KFold(n_splits=10, shuffle=True, random_state=random_seed)"
   ]
  },
  {
   "cell_type": "code",
   "execution_count": 5,
   "id": "f3d4fce6",
   "metadata": {},
   "outputs": [
    {
     "name": "stdout",
     "output_type": "stream",
     "text": [
      "第1折...\n",
      "valid score: 0.6525008644346393\n",
      "第2折...\n",
      "valid score: 0.6455576001879212\n",
      "第3折...\n",
      "valid score: 0.6583470571774973\n",
      "第4折...\n",
      "valid score: 0.6364535073886086\n",
      "第5折...\n",
      "valid score: 0.7029956942725135\n",
      "第6折...\n",
      "valid score: 0.66423376934522\n",
      "第7折...\n",
      "valid score: 0.6690577849703133\n",
      "第8折...\n",
      "valid score: 0.6564941964887316\n",
      "第9折...\n",
      "valid score: 0.6654103555267306\n",
      "第10折...\n",
      "valid score: 0.671253516725976\n"
     ]
    }
   ],
   "source": [
    "preds, valid_dfs = [], []\n",
    "for i, (train_index, valid_index) in enumerate(kf.split(X, y)):\n",
    "    print('第'+str(i+1)+'折...')\n",
    "    X_train, X_valid = X[train_index], X[valid_index]\n",
    "    y_train, y_valid = y[train_index], y[valid_index]\n",
    "    sn_valid = sn[valid_index]\n",
    "    fault_time_valid = fault_time[valid_index]\n",
    "    \n",
    "    # 训练\n",
    "    model = CatBoostClassifier(loss_function='MultiClass', verbose=0, \n",
    "                               class_weights=[3 / 7, 2 / 7, 1 / 7, 1 / 7], random_seed=random_seed,\n",
    "                               learning_rate=0.1, use_best_model=True)\n",
    "    model.fit(X_train,y_train, eval_set=(X_valid, y_valid), plot=False)\n",
    "              \n",
    "    # 验证\n",
    "    proba = model.predict_proba(X_valid).T\n",
    "    pred = model.predict(X_valid)\n",
    "    overall_df = pd.DataFrame()\n",
    "    overall_df['sn'] = sn_valid\n",
    "    overall_df['fault_time'] = fault_time_valid\n",
    "    overall_df['proba_0'] = proba[0,:]\n",
    "    overall_df['proba_1'] = proba[1,:]\n",
    "    overall_df['proba_2'] = proba[2,:]\n",
    "    overall_df['proba_3'] = proba[3,:]\n",
    "    overall_df['label_gt'] = y_valid\n",
    "    overall_df['label_pr'] = pred\n",
    "    overall_df['true'] = overall_df.apply(lambda x: 1 if x['label_gt']==x['label_pr'] else 0, axis=1)\n",
    "    valid_dfs.append(overall_df)\n",
    "\n",
    "    weights = [3 / 7, 2 / 7, 1 / 7, 1 / 7]\n",
    "\n",
    "    macro_F1=0\n",
    "    for i in range(len(weights)):\n",
    "        TP = len(overall_df[(overall_df['label_gt'] == i) & (overall_df['label_pr'] == i)])\n",
    "        FP = len(overall_df[(overall_df['label_gt'] != i) & (overall_df['label_pr'] == i)])\n",
    "        FN = len(overall_df[(overall_df['label_gt'] == i) & (overall_df['label_pr'] != i)])\n",
    "        precision = TP / (TP + FP) if (TP + FP) > 0 else 0\n",
    "        recall = TP / (TP + FN) if (TP + FN) > 0 else 0\n",
    "        F1 = 2 * precision * recall / (precision + recall) if (precision + recall) > 0 else 0\n",
    "        macro_F1 += weights[i] * F1\n",
    "    print('valid score: '+str(macro_F1))\n",
    "              \n",
    "    # 测试\n",
    "    pred = model.predict_proba(test)\n",
    "    preds.append(pred)"
   ]
  },
  {
   "cell_type": "code",
   "execution_count": 6,
   "id": "44193fb7",
   "metadata": {},
   "outputs": [],
   "source": [
    "valid = pd.concat(valid_dfs)\n",
    "valid.to_csv('./valid.csv', index=False)"
   ]
  },
  {
   "cell_type": "code",
   "execution_count": 7,
   "id": "f094b45f",
   "metadata": {},
   "outputs": [],
   "source": [
    "preds = np.argmax(np.mean(preds, axis=0), axis=1)"
   ]
  },
  {
   "cell_type": "code",
   "execution_count": 8,
   "id": "1a78be6a",
   "metadata": {},
   "outputs": [
    {
     "data": {
      "text/html": [
       "<div>\n",
       "<style scoped>\n",
       "    .dataframe tbody tr th:only-of-type {\n",
       "        vertical-align: middle;\n",
       "    }\n",
       "\n",
       "    .dataframe tbody tr th {\n",
       "        vertical-align: top;\n",
       "    }\n",
       "\n",
       "    .dataframe thead th {\n",
       "        text-align: right;\n",
       "    }\n",
       "</style>\n",
       "<table border=\"1\" class=\"dataframe\">\n",
       "  <thead>\n",
       "    <tr style=\"text-align: right;\">\n",
       "      <th></th>\n",
       "      <th>sn</th>\n",
       "      <th>fault_time</th>\n",
       "      <th>label</th>\n",
       "    </tr>\n",
       "  </thead>\n",
       "  <tbody>\n",
       "    <tr>\n",
       "      <th>0</th>\n",
       "      <td>000d33b21436</td>\n",
       "      <td>2020-09-02 16:42:54</td>\n",
       "      <td>3</td>\n",
       "    </tr>\n",
       "    <tr>\n",
       "      <th>1</th>\n",
       "      <td>005c5a9218ba</td>\n",
       "      <td>2020-06-28 19:05:16</td>\n",
       "      <td>2</td>\n",
       "    </tr>\n",
       "    <tr>\n",
       "      <th>2</th>\n",
       "      <td>0079283bde6e</td>\n",
       "      <td>2020-04-26 21:32:44</td>\n",
       "      <td>3</td>\n",
       "    </tr>\n",
       "    <tr>\n",
       "      <th>3</th>\n",
       "      <td>007bdf23b62f</td>\n",
       "      <td>2020-06-16 18:40:39</td>\n",
       "      <td>2</td>\n",
       "    </tr>\n",
       "    <tr>\n",
       "      <th>4</th>\n",
       "      <td>00a577a8e54f</td>\n",
       "      <td>2020-04-07 07:16:55</td>\n",
       "      <td>2</td>\n",
       "    </tr>\n",
       "  </tbody>\n",
       "</table>\n",
       "</div>"
      ],
      "text/plain": [
       "             sn           fault_time  label\n",
       "0  000d33b21436  2020-09-02 16:42:54      3\n",
       "1  005c5a9218ba  2020-06-28 19:05:16      2\n",
       "2  0079283bde6e  2020-04-26 21:32:44      3\n",
       "3  007bdf23b62f  2020-06-16 18:40:39      2\n",
       "4  00a577a8e54f  2020-04-07 07:16:55      2"
      ]
     },
     "execution_count": 8,
     "metadata": {},
     "output_type": "execute_result"
    }
   ],
   "source": [
    "result = pd.read_csv('./dataset/src/preliminary_submit_dataset_a.csv')\n",
    "result['label'] = preds\n",
    "result.to_csv('./result.csv', index=False)\n",
    "result.head()"
   ]
  },
  {
   "cell_type": "code",
   "execution_count": null,
   "id": "820226a2",
   "metadata": {},
   "outputs": [],
   "source": []
  }
 ],
 "metadata": {
  "kernelspec": {
   "display_name": "py39",
   "language": "python",
   "name": "py39"
  },
  "language_info": {
   "codemirror_mode": {
    "name": "ipython",
    "version": 3
   },
   "file_extension": ".py",
   "mimetype": "text/x-python",
   "name": "python",
   "nbconvert_exporter": "python",
   "pygments_lexer": "ipython3",
   "version": "3.9.7"
  }
 },
 "nbformat": 4,
 "nbformat_minor": 5
}
