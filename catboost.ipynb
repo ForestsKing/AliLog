{
 "cells": [
  {
   "cell_type": "code",
   "execution_count": 1,
   "id": "3305e33b",
   "metadata": {},
   "outputs": [],
   "source": [
    "import numpy as np\n",
    "import pandas as pd\n",
    "from sklearn.model_selection import train_test_split\n",
    "from sklearn.model_selection import KFold\n",
    "from catboost import CatBoostClassifier\n",
    "import matplotlib.pyplot as plt"
   ]
  },
  {
   "cell_type": "code",
   "execution_count": 2,
   "id": "dd7550df",
   "metadata": {},
   "outputs": [],
   "source": [
    "feature  = pd.read_csv('./dataset/v1/label_pro.csv').columns.values.tolist()\n",
    "feature.remove('sn')\n",
    "feature.remove('fault_time')\n",
    "feature.remove('label')"
   ]
  },
  {
   "cell_type": "code",
   "execution_count": 3,
   "id": "fb23baf4",
   "metadata": {},
   "outputs": [],
   "source": [
    "random_seed = 42"
   ]
  },
  {
   "cell_type": "code",
   "execution_count": 4,
   "id": "848d49a6",
   "metadata": {},
   "outputs": [],
   "source": [
    "data  = pd.read_csv('./dataset/v1/label_pro.csv')\n",
    "X = data[feature].values\n",
    "y = data['label'].values\n",
    "\n",
    "test  = pd.read_csv('./dataset/v1/submit_pro.csv')[feature].values\n",
    "\n",
    "kf = KFold(n_splits=10, shuffle=True, random_state=random_seed)"
   ]
  },
  {
   "cell_type": "code",
   "execution_count": 5,
   "id": "68647a80",
   "metadata": {},
   "outputs": [
    {
     "name": "stdout",
     "output_type": "stream",
     "text": [
      "第1折...\n",
      "valid score: 0.647415154884297\n",
      "第2折...\n",
      "valid score: 0.6538197214663478\n",
      "第3折...\n",
      "valid score: 0.6716511078145372\n",
      "第4折...\n",
      "valid score: 0.631715525834514\n",
      "第5折...\n",
      "valid score: 0.7017892569150029\n",
      "第6折...\n",
      "valid score: 0.6581594307173915\n",
      "第7折...\n",
      "valid score: 0.6829919283976753\n",
      "第8折...\n",
      "valid score: 0.669712569680072\n",
      "第9折...\n",
      "valid score: 0.6465597769879424\n",
      "第10折...\n",
      "valid score: 0.6844547400897085\n"
     ]
    }
   ],
   "source": [
    "preds = []\n",
    "for i, (train_index, valid_index) in enumerate(kf.split(X, y)):\n",
    "    print('第'+str(i+1)+'折...')\n",
    "    X_train, X_valid = X[train_index], X[valid_index]\n",
    "    y_train, y_valid = y[train_index], y[valid_index]\n",
    "    \n",
    "    # 训练\n",
    "    model = CatBoostClassifier(loss_function='MultiClass', task_type=\"GPU\", devices='0:1', verbose=0, \n",
    "                               class_weights=[3 / 7, 2 / 7, 1 / 7, 1 / 7], random_seed=random_seed,\n",
    "                               learning_rate=0.1, use_best_model=True)\n",
    "    model.fit(X_train,y_train, eval_set=(X_valid, y_valid), plot=False)\n",
    "              \n",
    "    # 验证\n",
    "    pred = model.predict(X_valid)\n",
    "    overall_df = pd.DataFrame()\n",
    "    overall_df['label_gt'] = y_valid\n",
    "    overall_df['label_pr'] = pred\n",
    "\n",
    "    weights = [3 / 7, 2 / 7, 1 / 7, 1 / 7]\n",
    "\n",
    "    macro_F1=0\n",
    "    for i in range(len(weights)):\n",
    "        TP = len(overall_df[(overall_df['label_gt'] == i) & (overall_df['label_pr'] == i)])\n",
    "        FP = len(overall_df[(overall_df['label_gt'] != i) & (overall_df['label_pr'] == i)])\n",
    "        FN = len(overall_df[(overall_df['label_gt'] == i) & (overall_df['label_pr'] != i)])\n",
    "        precision = TP / (TP + FP) if (TP + FP) > 0 else 0\n",
    "        recall = TP / (TP + FN) if (TP + FN) > 0 else 0\n",
    "        F1 = 2 * precision * recall / (precision + recall) if (precision + recall) > 0 else 0\n",
    "        macro_F1 += weights[i] * F1\n",
    "    print('valid score: '+str(macro_F1))\n",
    "              \n",
    "    # 测试\n",
    "    pred = model.predict_proba(test)\n",
    "    preds.append(pred)"
   ]
  },
  {
   "cell_type": "code",
   "execution_count": 6,
   "id": "c46607b5",
   "metadata": {},
   "outputs": [],
   "source": [
    "preds = np.argmax(np.mean(preds, axis=0), axis=1)"
   ]
  },
  {
   "cell_type": "code",
   "execution_count": 8,
   "id": "f657a0c3",
   "metadata": {},
   "outputs": [
    {
     "data": {
      "text/html": [
       "<div>\n",
       "<style scoped>\n",
       "    .dataframe tbody tr th:only-of-type {\n",
       "        vertical-align: middle;\n",
       "    }\n",
       "\n",
       "    .dataframe tbody tr th {\n",
       "        vertical-align: top;\n",
       "    }\n",
       "\n",
       "    .dataframe thead th {\n",
       "        text-align: right;\n",
       "    }\n",
       "</style>\n",
       "<table border=\"1\" class=\"dataframe\">\n",
       "  <thead>\n",
       "    <tr style=\"text-align: right;\">\n",
       "      <th></th>\n",
       "      <th>sn</th>\n",
       "      <th>fault_time</th>\n",
       "      <th>label</th>\n",
       "    </tr>\n",
       "  </thead>\n",
       "  <tbody>\n",
       "    <tr>\n",
       "      <th>0</th>\n",
       "      <td>0015fe530ad4</td>\n",
       "      <td>2020-05-01 23:48:17</td>\n",
       "      <td>2</td>\n",
       "    </tr>\n",
       "    <tr>\n",
       "      <th>1</th>\n",
       "      <td>00380f1435b0</td>\n",
       "      <td>2020-07-28 07:51:13</td>\n",
       "      <td>3</td>\n",
       "    </tr>\n",
       "    <tr>\n",
       "      <th>2</th>\n",
       "      <td>0045a71d0221</td>\n",
       "      <td>2020-07-02 06:33:54</td>\n",
       "      <td>1</td>\n",
       "    </tr>\n",
       "    <tr>\n",
       "      <th>3</th>\n",
       "      <td>004d5a7954e7</td>\n",
       "      <td>2020-08-24 08:27:55</td>\n",
       "      <td>2</td>\n",
       "    </tr>\n",
       "    <tr>\n",
       "      <th>4</th>\n",
       "      <td>004d5a7954e7</td>\n",
       "      <td>2020-08-24 09:42:45</td>\n",
       "      <td>0</td>\n",
       "    </tr>\n",
       "  </tbody>\n",
       "</table>\n",
       "</div>"
      ],
      "text/plain": [
       "             sn           fault_time  label\n",
       "0  0015fe530ad4  2020-05-01 23:48:17      2\n",
       "1  00380f1435b0  2020-07-28 07:51:13      3\n",
       "2  0045a71d0221  2020-07-02 06:33:54      1\n",
       "3  004d5a7954e7  2020-08-24 08:27:55      2\n",
       "4  004d5a7954e7  2020-08-24 09:42:45      0"
      ]
     },
     "execution_count": 8,
     "metadata": {},
     "output_type": "execute_result"
    }
   ],
   "source": [
    "result = pd.read_csv('./dataset/src/preliminary_submit_dataset_b.csv')\n",
    "result['label'] = preds\n",
    "result.to_csv('./result_0.csv', index=False)\n",
    "result.head()"
   ]
  },
  {
   "cell_type": "code",
   "execution_count": null,
   "id": "f47a8c67",
   "metadata": {},
   "outputs": [],
   "source": []
  }
 ],
 "metadata": {
  "kernelspec": {
   "display_name": "py39",
   "language": "python",
   "name": "py39"
  },
  "language_info": {
   "codemirror_mode": {
    "name": "ipython",
    "version": 3
   },
   "file_extension": ".py",
   "mimetype": "text/x-python",
   "name": "python",
   "nbconvert_exporter": "python",
   "pygments_lexer": "ipython3",
   "version": "3.9.7"
  }
 },
 "nbformat": 4,
 "nbformat_minor": 5
}
