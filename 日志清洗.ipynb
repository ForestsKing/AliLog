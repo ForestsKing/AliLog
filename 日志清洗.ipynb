{
 "cells": [
  {
   "cell_type": "code",
   "execution_count": 1,
   "id": "80d04fb1",
   "metadata": {},
   "outputs": [],
   "source": [
    "import re\n",
    "import pandas as pd"
   ]
  },
  {
   "cell_type": "code",
   "execution_count": 2,
   "id": "8911f338",
   "metadata": {},
   "outputs": [],
   "source": [
    "def DeviceClean(string):\n",
    "    string = str(string)\n",
    "    string = string.lower()\n",
    "    string = string.strip()\n",
    "    string = re.sub(r'[^a-z0-9]',' ',string) # 换标点\n",
    "    string = string.strip()\n",
    "    string = string.split(' ')\n",
    "    if len(string)>1:\n",
    "        string = string[0]\n",
    "        string = re.sub(r'[0-9]\\S*\\b','',string) # 屏蔽设备序号\n",
    "        return string\n",
    "    string = string[0]\n",
    "    string = re.sub(r'\\b\\S*\\d\\S*\\b', '',string) # 去除含数字的组合\n",
    "    string = re.sub(r'\\b[a-z]\\b','',string) # 过滤单独字母\n",
    "    return string"
   ]
  },
  {
   "cell_type": "code",
   "execution_count": 3,
   "id": "87bf7092",
   "metadata": {},
   "outputs": [],
   "source": [
    "def StateClean(string):\n",
    "    string = str(string)\n",
    "    string = string.lower()\n",
    "    string = string.strip()\n",
    "    string = re.sub(r'\\(\\S*\\)','',string)\n",
    "    \n",
    "    string = re.sub(r'\\b\\S*:','',string)\n",
    "    string = re.sub(r'/\\S*\\b', '', string)\n",
    "    string = re.sub(r'[0-9]\\S*\\b','',string)\n",
    "    string = re.sub(r'[^a-z0-9]',' ',string)\n",
    "    string = re.sub(r' +',' ',string)\n",
    "    \n",
    "    string = string.strip()\n",
    "    return string"
   ]
  },
  {
   "cell_type": "code",
   "execution_count": 4,
   "id": "4ac317fe",
   "metadata": {},
   "outputs": [],
   "source": [
    "train = pd.read_csv('./dataset/src/preliminary_sel_log_dataset.csv')\n",
    "train['msg01'] = train['msg'].apply(lambda x: x.split('|')[0] if len(x.split('|'))>0 else '')\n",
    "train['msg02'] = train['msg'].apply(lambda x: x.split('|')[1] if len(x.split('|'))>1 else '')\n",
    "train['msg03'] = train['msg'].apply(lambda x: x.split('|')[2] if len(x.split('|'))>2 else '')"
   ]
  },
  {
   "cell_type": "code",
   "execution_count": 5,
   "id": "e2f0abdb",
   "metadata": {},
   "outputs": [],
   "source": [
    "train['Device'] = train['msg01'].apply(lambda x: DeviceClean(x))\n",
    "train['State'] = train['msg02'].apply(lambda x: StateClean(x))\n",
    "train['msg'] = train.apply(lambda x: x['Device']+' '+x['State'], axis=1)\n",
    "train[['sn', 'time', 'msg', 'server_model']].to_csv('./dataset/v1/train_clean.csv', index=False)"
   ]
  },
  {
   "cell_type": "code",
   "execution_count": 6,
   "id": "383ba689",
   "metadata": {},
   "outputs": [],
   "source": [
    "test = pd.read_csv('./dataset/src/preliminary_sel_log_dataset_a.csv')\n",
    "test['msg01'] = test['msg'].apply(lambda x: x.split('|')[0] if len(x.split('|'))>0 else '')\n",
    "test['msg02'] = test['msg'].apply(lambda x: x.split('|')[1] if len(x.split('|'))>1 else '')\n",
    "test['msg03'] = test['msg'].apply(lambda x: x.split('|')[2] if len(x.split('|'))>2 else '')"
   ]
  },
  {
   "cell_type": "code",
   "execution_count": 7,
   "id": "d3d77eec",
   "metadata": {},
   "outputs": [],
   "source": [
    "test['Device'] = test['msg01'].apply(lambda x: DeviceClean(x))\n",
    "test['State'] = test['msg02'].apply(lambda x: StateClean(x))\n",
    "test['msg'] = test.apply(lambda x: x['Device']+' '+x['State'], axis=1)\n",
    "test[['sn', 'time', 'msg', 'server_model']].to_csv('./dataset/v1/test_clean.csv', index=False)"
   ]
  }
 ],
 "metadata": {
  "kernelspec": {
   "display_name": "py39",
   "language": "python",
   "name": "py39"
  },
  "language_info": {
   "codemirror_mode": {
    "name": "ipython",
    "version": 3
   },
   "file_extension": ".py",
   "mimetype": "text/x-python",
   "name": "python",
   "nbconvert_exporter": "python",
   "pygments_lexer": "ipython3",
   "version": "3.9.7"
  }
 },
 "nbformat": 4,
 "nbformat_minor": 5
}
