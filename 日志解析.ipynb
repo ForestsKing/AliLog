{
 "cells": [
  {
   "cell_type": "code",
   "execution_count": 1,
   "id": "6e24f3a6",
   "metadata": {},
   "outputs": [],
   "source": [
    "import os\n",
    "\n",
    "import pandas as pd\n",
    "from tqdm import tqdm\n",
    "\n",
    "from utils.logparser import LogParser"
   ]
  },
  {
   "cell_type": "code",
   "execution_count": 2,
   "id": "8dcfded8",
   "metadata": {},
   "outputs": [
    {
     "name": "stderr",
     "output_type": "stream",
     "text": [
      "100%|███████████████████████████████| 482536/482536 [00:02<00:00, 173747.21it/s]\n",
      "100%|█████████████████████████████████| 10991/10991 [00:00<00:00, 164343.83it/s]\n"
     ]
    }
   ],
   "source": [
    "df = pd.read_csv('./dataset/src/preliminary_sel_log_dataset.csv')\n",
    "with open('./dataset/v1/log.log', \"w\") as f:\n",
    "    for i in tqdm(range(len(df))):\n",
    "        string = 'train ' + df['sn'].values[i]+' '+df['time'].values[i]+' '+df['server_model'].values[i]+' '+df['msg'].values[i]\n",
    "        string = string.replace('  ', ' ')\n",
    "        f.write(string)\n",
    "        f.write('\\n')\n",
    "\n",
    "df = pd.read_csv('./dataset/src/preliminary_sel_log_dataset_a.csv')\n",
    "with open('./dataset/v1/log.log', \"a\") as f:\n",
    "    for i in tqdm(range(len(df))):\n",
    "        string = 'test ' + df['sn'].values[i]+' '+df['time'].values[i]+' '+df['server_model'].values[i]+' '+df['msg'].values[i]\n",
    "        string = string.replace('  ', ' ')\n",
    "        f.write(string)\n",
    "        f.write('\\n')"
   ]
  },
  {
   "cell_type": "code",
   "execution_count": 3,
   "id": "c811a148",
   "metadata": {},
   "outputs": [
    {
     "name": "stdout",
     "output_type": "stream",
     "text": [
      "Parsing file: ./dataset/v1/log.log\n",
      "load log ...\n"
     ]
    },
    {
     "name": "stderr",
     "output_type": "stream",
     "text": [
      "100%|███████████████████████████████| 493527/493527 [00:02<00:00, 176478.74it/s]\n"
     ]
    },
    {
     "name": "stdout",
     "output_type": "stream",
     "text": [
      "parse log ...\n"
     ]
    },
    {
     "name": "stderr",
     "output_type": "stream",
     "text": [
      "100%|████████████████████████████████| 493527/493527 [00:12<00:00, 39206.49it/s]\n",
      "get param: 100%|█████████████████████| 493527/493527 [00:09<00:00, 51244.60it/s]\n"
     ]
    },
    {
     "name": "stdout",
     "output_type": "stream",
     "text": [
      "Parsing done. [Time taken: 0:00:26.772352]\n"
     ]
    }
   ],
   "source": [
    "log_format = '<source> <sn> <Date> <Time> <server_model> <Content>'\n",
    "parser = LogParser(indir='./dataset/v1/', outdir='./dataset/v1/', log_format=log_format, keep_para=True)\n",
    "parser.parse('log.log')"
   ]
  },
  {
   "cell_type": "code",
   "execution_count": 4,
   "id": "b0f2f505",
   "metadata": {},
   "outputs": [],
   "source": [
    "df = pd.read_csv('./dataset/v1/log.log_templates.csv')\n",
    "EventId2num = {}\n",
    "for num, EventId in enumerate(df['EventId'].values):\n",
    "    EventId2num[EventId] = num"
   ]
  },
  {
   "cell_type": "code",
   "execution_count": 5,
   "id": "6de67789",
   "metadata": {},
   "outputs": [
    {
     "data": {
      "text/html": [
       "<div>\n",
       "<style scoped>\n",
       "    .dataframe tbody tr th:only-of-type {\n",
       "        vertical-align: middle;\n",
       "    }\n",
       "\n",
       "    .dataframe tbody tr th {\n",
       "        vertical-align: top;\n",
       "    }\n",
       "\n",
       "    .dataframe thead th {\n",
       "        text-align: right;\n",
       "    }\n",
       "</style>\n",
       "<table border=\"1\" class=\"dataframe\">\n",
       "  <thead>\n",
       "    <tr style=\"text-align: right;\">\n",
       "      <th></th>\n",
       "      <th>LineId</th>\n",
       "      <th>source</th>\n",
       "      <th>sn</th>\n",
       "      <th>Date</th>\n",
       "      <th>Time</th>\n",
       "      <th>server_model</th>\n",
       "      <th>Content</th>\n",
       "      <th>EventId</th>\n",
       "      <th>EventTemplate</th>\n",
       "      <th>ParameterList</th>\n",
       "      <th>timestamp</th>\n",
       "    </tr>\n",
       "  </thead>\n",
       "  <tbody>\n",
       "    <tr>\n",
       "      <th>0</th>\n",
       "      <td>1</td>\n",
       "      <td>train</td>\n",
       "      <td>SERVER_25698</td>\n",
       "      <td>2020-10-09</td>\n",
       "      <td>08:32:21</td>\n",
       "      <td>0</td>\n",
       "      <td>System Boot Initiated BIOS_Boot_Up | State Ass...</td>\n",
       "      <td>0</td>\n",
       "      <td>System Boot Initiated &lt;*&gt; | &lt;*&gt; &lt;*&gt; | Asserted</td>\n",
       "      <td>['BIOS_Boot_Up', 'State Asserted']</td>\n",
       "      <td>2020-10-09 08:32:21</td>\n",
       "    </tr>\n",
       "    <tr>\n",
       "      <th>1</th>\n",
       "      <td>2</td>\n",
       "      <td>train</td>\n",
       "      <td>SERVER_25698</td>\n",
       "      <td>2020-10-09</td>\n",
       "      <td>07:43:48</td>\n",
       "      <td>0</td>\n",
       "      <td>System Boot Initiated BIOS_Boot_Up | State Ass...</td>\n",
       "      <td>0</td>\n",
       "      <td>System Boot Initiated &lt;*&gt; | &lt;*&gt; &lt;*&gt; | Asserted</td>\n",
       "      <td>['BIOS_Boot_Up', 'State Asserted']</td>\n",
       "      <td>2020-10-09 07:43:48</td>\n",
       "    </tr>\n",
       "    <tr>\n",
       "      <th>2</th>\n",
       "      <td>3</td>\n",
       "      <td>train</td>\n",
       "      <td>SERVER_25698</td>\n",
       "      <td>2020-10-09</td>\n",
       "      <td>08:16:22</td>\n",
       "      <td>0</td>\n",
       "      <td>System Boot Initiated BIOS_Boot_Up | State Ass...</td>\n",
       "      <td>0</td>\n",
       "      <td>System Boot Initiated &lt;*&gt; | &lt;*&gt; &lt;*&gt; | Asserted</td>\n",
       "      <td>['BIOS_Boot_Up', 'State Asserted']</td>\n",
       "      <td>2020-10-09 08:16:22</td>\n",
       "    </tr>\n",
       "    <tr>\n",
       "      <th>3</th>\n",
       "      <td>4</td>\n",
       "      <td>train</td>\n",
       "      <td>SERVER_25698</td>\n",
       "      <td>2020-10-09</td>\n",
       "      <td>05:46:41</td>\n",
       "      <td>0</td>\n",
       "      <td>System Boot Initiated BIOS_Boot_Up | State Ass...</td>\n",
       "      <td>0</td>\n",
       "      <td>System Boot Initiated &lt;*&gt; | &lt;*&gt; &lt;*&gt; | Asserted</td>\n",
       "      <td>['BIOS_Boot_Up', 'State Asserted']</td>\n",
       "      <td>2020-10-09 05:46:41</td>\n",
       "    </tr>\n",
       "    <tr>\n",
       "      <th>4</th>\n",
       "      <td>5</td>\n",
       "      <td>train</td>\n",
       "      <td>SERVER_25698</td>\n",
       "      <td>2020-10-09</td>\n",
       "      <td>12:59:13</td>\n",
       "      <td>0</td>\n",
       "      <td>System Boot Initiated BIOS_Boot_Up | State Ass...</td>\n",
       "      <td>0</td>\n",
       "      <td>System Boot Initiated &lt;*&gt; | &lt;*&gt; &lt;*&gt; | Asserted</td>\n",
       "      <td>['BIOS_Boot_Up', 'State Asserted']</td>\n",
       "      <td>2020-10-09 12:59:13</td>\n",
       "    </tr>\n",
       "  </tbody>\n",
       "</table>\n",
       "</div>"
      ],
      "text/plain": [
       "   LineId source            sn        Date      Time  server_model  \\\n",
       "0       1  train  SERVER_25698  2020-10-09  08:32:21             0   \n",
       "1       2  train  SERVER_25698  2020-10-09  07:43:48             0   \n",
       "2       3  train  SERVER_25698  2020-10-09  08:16:22             0   \n",
       "3       4  train  SERVER_25698  2020-10-09  05:46:41             0   \n",
       "4       5  train  SERVER_25698  2020-10-09  12:59:13             0   \n",
       "\n",
       "                                             Content  EventId  \\\n",
       "0  System Boot Initiated BIOS_Boot_Up | State Ass...        0   \n",
       "1  System Boot Initiated BIOS_Boot_Up | State Ass...        0   \n",
       "2  System Boot Initiated BIOS_Boot_Up | State Ass...        0   \n",
       "3  System Boot Initiated BIOS_Boot_Up | State Ass...        0   \n",
       "4  System Boot Initiated BIOS_Boot_Up | State Ass...        0   \n",
       "\n",
       "                                    EventTemplate  \\\n",
       "0  System Boot Initiated <*> | <*> <*> | Asserted   \n",
       "1  System Boot Initiated <*> | <*> <*> | Asserted   \n",
       "2  System Boot Initiated <*> | <*> <*> | Asserted   \n",
       "3  System Boot Initiated <*> | <*> <*> | Asserted   \n",
       "4  System Boot Initiated <*> | <*> <*> | Asserted   \n",
       "\n",
       "                        ParameterList            timestamp  \n",
       "0  ['BIOS_Boot_Up', 'State Asserted']  2020-10-09 08:32:21  \n",
       "1  ['BIOS_Boot_Up', 'State Asserted']  2020-10-09 07:43:48  \n",
       "2  ['BIOS_Boot_Up', 'State Asserted']  2020-10-09 08:16:22  \n",
       "3  ['BIOS_Boot_Up', 'State Asserted']  2020-10-09 05:46:41  \n",
       "4  ['BIOS_Boot_Up', 'State Asserted']  2020-10-09 12:59:13  "
      ]
     },
     "execution_count": 5,
     "metadata": {},
     "output_type": "execute_result"
    }
   ],
   "source": [
    "df = pd.read_csv('./dataset/v1/log.log_structured.csv')\n",
    "df['timestamp'] = df.apply(lambda x: x['Date']+' '+x['Time'], axis=1)\n",
    "df['EventId'] = df['EventId'].apply(lambda x: EventId2num[x])\n",
    "\n",
    "server_model2id = {}\n",
    "for i, sm in enumerate(sorted(list(set(df['server_model'].values)))):\n",
    "    server_model2id[sm] = i\n",
    "df['server_model'] = df['server_model'].apply(lambda x: server_model2id[x])\n",
    "\n",
    "\n",
    "df.head()"
   ]
  },
  {
   "cell_type": "code",
   "execution_count": 6,
   "id": "3fd5e806",
   "metadata": {},
   "outputs": [],
   "source": [
    "train = df[df['source']=='train']\n",
    "train[['sn', 'timestamp', 'server_model', 'EventId', 'ParameterList']].to_csv('./dataset/v1/train.csv', index=False)\n",
    "test = df[df['source']=='test']\n",
    "test[['sn', 'timestamp', 'server_model', 'EventId', 'ParameterList']].to_csv('./dataset/v1/test.csv', index=False)"
   ]
  },
  {
   "cell_type": "code",
   "execution_count": null,
   "id": "dcf29392",
   "metadata": {},
   "outputs": [],
   "source": []
  }
 ],
 "metadata": {
  "kernelspec": {
   "display_name": "Python [conda env:py39]",
   "language": "python",
   "name": "py39"
  },
  "language_info": {
   "codemirror_mode": {
    "name": "ipython",
    "version": 3
   },
   "file_extension": ".py",
   "mimetype": "text/x-python",
   "name": "python",
   "nbconvert_exporter": "python",
   "pygments_lexer": "ipython3",
   "version": "3.9.6"
  }
 },
 "nbformat": 4,
 "nbformat_minor": 5
}
