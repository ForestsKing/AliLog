{
 "cells": [
  {
   "cell_type": "code",
   "execution_count": 1,
   "id": "9e076c6f",
   "metadata": {},
   "outputs": [],
   "source": [
    "import os\n",
    "\n",
    "import pandas as pd\n",
    "from tqdm import tqdm\n",
    "\n",
    "from utils.logparser import LogParser"
   ]
  },
  {
   "cell_type": "code",
   "execution_count": 2,
   "id": "d2f05d0b",
   "metadata": {},
   "outputs": [
    {
     "name": "stderr",
     "output_type": "stream",
     "text": [
      "100%|███████████████████████████████| 482536/482536 [00:02<00:00, 179816.66it/s]\n",
      "100%|█████████████████████████████████| 10991/10991 [00:00<00:00, 178142.03it/s]\n"
     ]
    }
   ],
   "source": [
    "df = pd.read_csv('./dataset/v1/train_clean.csv')\n",
    "with open('./dataset/v1/log.log', \"w\") as f:\n",
    "    for i in tqdm(range(len(df))):\n",
    "        string = 'train ' + df['sn'].values[i]+' '+df['time'].values[i]+' '+df['server_model'].values[i]+' '+df['msg'].values[i]\n",
    "        string = string.replace('  ', ' ')\n",
    "        f.write(string)\n",
    "        f.write('\\n')\n",
    "\n",
    "df = pd.read_csv('./dataset/v1/test_clean.csv')\n",
    "with open('./dataset/v1/log.log', \"a\") as f:\n",
    "    for i in tqdm(range(len(df))):\n",
    "        string = 'test ' + df['sn'].values[i]+' '+df['time'].values[i]+' '+df['server_model'].values[i]+' '+df['msg'].values[i]\n",
    "        string = string.replace('  ', ' ')\n",
    "        f.write(string)\n",
    "        f.write('\\n')"
   ]
  },
  {
   "cell_type": "code",
   "execution_count": 3,
   "id": "2c191336",
   "metadata": {},
   "outputs": [
    {
     "name": "stdout",
     "output_type": "stream",
     "text": [
      "Parsing file: ./dataset/v1/log.log\n",
      "load log ...\n"
     ]
    },
    {
     "name": "stderr",
     "output_type": "stream",
     "text": [
      "100%|███████████████████████████████| 493527/493527 [00:02<00:00, 188517.09it/s]\n"
     ]
    },
    {
     "name": "stdout",
     "output_type": "stream",
     "text": [
      "parse log ...\n"
     ]
    },
    {
     "name": "stderr",
     "output_type": "stream",
     "text": [
      "100%|████████████████████████████████| 493527/493527 [00:14<00:00, 33922.68it/s]\n",
      "get param: 100%|████████████████████| 493527/493527 [00:03<00:00, 145097.68it/s]\n"
     ]
    },
    {
     "name": "stdout",
     "output_type": "stream",
     "text": [
      "Parsing done. [Time taken: 0:00:21.833907]\n"
     ]
    }
   ],
   "source": [
    "log_format = '<source> <sn> <Date> <Time> <server_model> <Content>'\n",
    "parser = LogParser(indir='./dataset/v1/', outdir='./dataset/v1/', log_format=log_format, keep_para=True, tau=1.5)\n",
    "parser.parse('log.log')"
   ]
  },
  {
   "cell_type": "code",
   "execution_count": 4,
   "id": "c15aa3b0",
   "metadata": {},
   "outputs": [],
   "source": [
    "df = pd.read_csv('./dataset/v1/log.log_templates.csv')\n",
    "EventId2num = {}\n",
    "for num, EventId in enumerate(df['EventId'].values):\n",
    "    EventId2num[EventId] = num"
   ]
  },
  {
   "cell_type": "code",
   "execution_count": 5,
   "id": "5ce5c785",
   "metadata": {},
   "outputs": [
    {
     "data": {
      "text/html": [
       "<div>\n",
       "<style scoped>\n",
       "    .dataframe tbody tr th:only-of-type {\n",
       "        vertical-align: middle;\n",
       "    }\n",
       "\n",
       "    .dataframe tbody tr th {\n",
       "        vertical-align: top;\n",
       "    }\n",
       "\n",
       "    .dataframe thead th {\n",
       "        text-align: right;\n",
       "    }\n",
       "</style>\n",
       "<table border=\"1\" class=\"dataframe\">\n",
       "  <thead>\n",
       "    <tr style=\"text-align: right;\">\n",
       "      <th></th>\n",
       "      <th>LineId</th>\n",
       "      <th>source</th>\n",
       "      <th>sn</th>\n",
       "      <th>Date</th>\n",
       "      <th>Time</th>\n",
       "      <th>server_model</th>\n",
       "      <th>Content</th>\n",
       "      <th>EventId</th>\n",
       "      <th>EventTemplate</th>\n",
       "      <th>ParameterList</th>\n",
       "      <th>timestamp</th>\n",
       "    </tr>\n",
       "  </thead>\n",
       "  <tbody>\n",
       "    <tr>\n",
       "      <th>0</th>\n",
       "      <td>1</td>\n",
       "      <td>train</td>\n",
       "      <td>SERVER_25698</td>\n",
       "      <td>2020-10-09</td>\n",
       "      <td>08:32:21</td>\n",
       "      <td>0</td>\n",
       "      <td>system state asserted</td>\n",
       "      <td>0</td>\n",
       "      <td>system state asserted</td>\n",
       "      <td>[]</td>\n",
       "      <td>2020-10-09 08:32:21</td>\n",
       "    </tr>\n",
       "    <tr>\n",
       "      <th>1</th>\n",
       "      <td>2</td>\n",
       "      <td>train</td>\n",
       "      <td>SERVER_25698</td>\n",
       "      <td>2020-10-09</td>\n",
       "      <td>07:43:48</td>\n",
       "      <td>0</td>\n",
       "      <td>system state asserted</td>\n",
       "      <td>0</td>\n",
       "      <td>system state asserted</td>\n",
       "      <td>[]</td>\n",
       "      <td>2020-10-09 07:43:48</td>\n",
       "    </tr>\n",
       "    <tr>\n",
       "      <th>2</th>\n",
       "      <td>3</td>\n",
       "      <td>train</td>\n",
       "      <td>SERVER_25698</td>\n",
       "      <td>2020-10-09</td>\n",
       "      <td>08:16:22</td>\n",
       "      <td>0</td>\n",
       "      <td>system state asserted</td>\n",
       "      <td>0</td>\n",
       "      <td>system state asserted</td>\n",
       "      <td>[]</td>\n",
       "      <td>2020-10-09 08:16:22</td>\n",
       "    </tr>\n",
       "    <tr>\n",
       "      <th>3</th>\n",
       "      <td>4</td>\n",
       "      <td>train</td>\n",
       "      <td>SERVER_25698</td>\n",
       "      <td>2020-10-09</td>\n",
       "      <td>05:46:41</td>\n",
       "      <td>0</td>\n",
       "      <td>system state asserted</td>\n",
       "      <td>0</td>\n",
       "      <td>system state asserted</td>\n",
       "      <td>[]</td>\n",
       "      <td>2020-10-09 05:46:41</td>\n",
       "    </tr>\n",
       "    <tr>\n",
       "      <th>4</th>\n",
       "      <td>5</td>\n",
       "      <td>train</td>\n",
       "      <td>SERVER_25698</td>\n",
       "      <td>2020-10-09</td>\n",
       "      <td>12:59:13</td>\n",
       "      <td>0</td>\n",
       "      <td>system state asserted</td>\n",
       "      <td>0</td>\n",
       "      <td>system state asserted</td>\n",
       "      <td>[]</td>\n",
       "      <td>2020-10-09 12:59:13</td>\n",
       "    </tr>\n",
       "  </tbody>\n",
       "</table>\n",
       "</div>"
      ],
      "text/plain": [
       "   LineId source            sn        Date      Time  server_model  \\\n",
       "0       1  train  SERVER_25698  2020-10-09  08:32:21             0   \n",
       "1       2  train  SERVER_25698  2020-10-09  07:43:48             0   \n",
       "2       3  train  SERVER_25698  2020-10-09  08:16:22             0   \n",
       "3       4  train  SERVER_25698  2020-10-09  05:46:41             0   \n",
       "4       5  train  SERVER_25698  2020-10-09  12:59:13             0   \n",
       "\n",
       "                 Content  EventId          EventTemplate ParameterList  \\\n",
       "0  system state asserted        0  system state asserted            []   \n",
       "1  system state asserted        0  system state asserted            []   \n",
       "2  system state asserted        0  system state asserted            []   \n",
       "3  system state asserted        0  system state asserted            []   \n",
       "4  system state asserted        0  system state asserted            []   \n",
       "\n",
       "             timestamp  \n",
       "0  2020-10-09 08:32:21  \n",
       "1  2020-10-09 07:43:48  \n",
       "2  2020-10-09 08:16:22  \n",
       "3  2020-10-09 05:46:41  \n",
       "4  2020-10-09 12:59:13  "
      ]
     },
     "execution_count": 5,
     "metadata": {},
     "output_type": "execute_result"
    }
   ],
   "source": [
    "df = pd.read_csv('./dataset/v1/log.log_structured.csv')\n",
    "df['timestamp'] = df.apply(lambda x: x['Date']+' '+x['Time'], axis=1)\n",
    "df['EventId'] = df['EventId'].apply(lambda x: EventId2num[x])\n",
    "\n",
    "server_model2id = {}\n",
    "for i, sm in enumerate(sorted(list(set(df['server_model'].values)))):\n",
    "    server_model2id[sm] = i\n",
    "df['server_model'] = df['server_model'].apply(lambda x: server_model2id[x])\n",
    "\n",
    "\n",
    "df.head()"
   ]
  },
  {
   "cell_type": "code",
   "execution_count": 6,
   "id": "140b01fa",
   "metadata": {},
   "outputs": [],
   "source": [
    "train = df[df['source']=='train']\n",
    "train[['sn', 'timestamp', 'server_model', 'EventId', 'ParameterList']].to_csv('./dataset/v1/train.csv', index=False)\n",
    "test = df[df['source']=='test']\n",
    "test[['sn', 'timestamp', 'server_model', 'EventId', 'ParameterList']].to_csv('./dataset/v1/test.csv', index=False)"
   ]
  },
  {
   "cell_type": "code",
   "execution_count": null,
   "id": "6c31d06d",
   "metadata": {},
   "outputs": [],
   "source": []
  }
 ],
 "metadata": {
  "kernelspec": {
   "display_name": "py39",
   "language": "python",
   "name": "py39"
  },
  "language_info": {
   "codemirror_mode": {
    "name": "ipython",
    "version": 3
   },
   "file_extension": ".py",
   "mimetype": "text/x-python",
   "name": "python",
   "nbconvert_exporter": "python",
   "pygments_lexer": "ipython3",
   "version": "3.9.7"
  }
 },
 "nbformat": 4,
 "nbformat_minor": 5
}
