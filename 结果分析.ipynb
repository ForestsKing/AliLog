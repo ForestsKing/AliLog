{
 "cells": [
  {
   "cell_type": "code",
   "execution_count": 7,
   "id": "5a704381",
   "metadata": {},
   "outputs": [],
   "source": [
    "import pandas as pd"
   ]
  },
  {
   "cell_type": "code",
   "execution_count": 8,
   "id": "6757f2f8",
   "metadata": {},
   "outputs": [
    {
     "data": {
      "text/html": [
       "<div>\n",
       "<style scoped>\n",
       "    .dataframe tbody tr th:only-of-type {\n",
       "        vertical-align: middle;\n",
       "    }\n",
       "\n",
       "    .dataframe tbody tr th {\n",
       "        vertical-align: top;\n",
       "    }\n",
       "\n",
       "    .dataframe thead th {\n",
       "        text-align: right;\n",
       "    }\n",
       "</style>\n",
       "<table border=\"1\" class=\"dataframe\">\n",
       "  <thead>\n",
       "    <tr style=\"text-align: right;\">\n",
       "      <th></th>\n",
       "      <th>Unnamed: 0</th>\n",
       "      <th>sn</th>\n",
       "      <th>fault_time</th>\n",
       "      <th>label_gt</th>\n",
       "      <th>label_pr</th>\n",
       "      <th>True</th>\n",
       "      <th>msg</th>\n",
       "    </tr>\n",
       "  </thead>\n",
       "  <tbody>\n",
       "    <tr>\n",
       "      <th>0</th>\n",
       "      <td>0</td>\n",
       "      <td>SERVER_25708</td>\n",
       "      <td>2020-07-25 12:44:00</td>\n",
       "      <td>0</td>\n",
       "      <td>0</td>\n",
       "      <td>1</td>\n",
       "      <td>0-&gt;0</td>\n",
       "    </tr>\n",
       "    <tr>\n",
       "      <th>1</th>\n",
       "      <td>1</td>\n",
       "      <td>SERVER_25766</td>\n",
       "      <td>2020-05-08 06:11:00</td>\n",
       "      <td>0</td>\n",
       "      <td>1</td>\n",
       "      <td>0</td>\n",
       "      <td>0-&gt;1</td>\n",
       "    </tr>\n",
       "    <tr>\n",
       "      <th>2</th>\n",
       "      <td>2</td>\n",
       "      <td>SERVER_25812</td>\n",
       "      <td>2020-01-31 15:39:00</td>\n",
       "      <td>0</td>\n",
       "      <td>1</td>\n",
       "      <td>0</td>\n",
       "      <td>0-&gt;1</td>\n",
       "    </tr>\n",
       "    <tr>\n",
       "      <th>3</th>\n",
       "      <td>3</td>\n",
       "      <td>SERVER_25732</td>\n",
       "      <td>2020-05-15 18:24:00</td>\n",
       "      <td>0</td>\n",
       "      <td>2</td>\n",
       "      <td>0</td>\n",
       "      <td>0-&gt;2</td>\n",
       "    </tr>\n",
       "    <tr>\n",
       "      <th>4</th>\n",
       "      <td>4</td>\n",
       "      <td>SERVER_25733</td>\n",
       "      <td>2020-06-02 18:50:00</td>\n",
       "      <td>0</td>\n",
       "      <td>1</td>\n",
       "      <td>0</td>\n",
       "      <td>0-&gt;1</td>\n",
       "    </tr>\n",
       "  </tbody>\n",
       "</table>\n",
       "</div>"
      ],
      "text/plain": [
       "   Unnamed: 0            sn           fault_time  label_gt  label_pr  True  \\\n",
       "0           0  SERVER_25708  2020-07-25 12:44:00         0         0     1   \n",
       "1           1  SERVER_25766  2020-05-08 06:11:00         0         1     0   \n",
       "2           2  SERVER_25812  2020-01-31 15:39:00         0         1     0   \n",
       "3           3  SERVER_25732  2020-05-15 18:24:00         0         2     0   \n",
       "4           4  SERVER_25733  2020-06-02 18:50:00         0         1     0   \n",
       "\n",
       "    msg  \n",
       "0  0->0  \n",
       "1  0->1  \n",
       "2  0->1  \n",
       "3  0->2  \n",
       "4  0->1  "
      ]
     },
     "execution_count": 8,
     "metadata": {},
     "output_type": "execute_result"
    }
   ],
   "source": [
    "df = pd.concat([\n",
    "    pd.read_csv('./valid/valid_1.csv'),\n",
    "    pd.read_csv('./valid/valid_2.csv'),\n",
    "    pd.read_csv('./valid/valid_3.csv'),\n",
    "    pd.read_csv('./valid/valid_4.csv'),\n",
    "    pd.read_csv('./valid/valid_5.csv'),\n",
    "    pd.read_csv('./valid/valid_6.csv'),\n",
    "    pd.read_csv('./valid/valid_7.csv'),\n",
    "    pd.read_csv('./valid/valid_8.csv'),\n",
    "    pd.read_csv('./valid/valid_9.csv'),\n",
    "    pd.read_csv('./valid/valid_10.csv'),\n",
    "])\n",
    "\n",
    "df['True'] = df.apply(lambda x: 1 if x['label_gt'] == x['label_pr'] else 0, axis=1)\n",
    "df['msg'] = df.apply(lambda x: str(x['label_gt'])+'->'+str( x['label_pr']), axis=1)\n",
    "df.head()"
   ]
  },
  {
   "cell_type": "code",
   "execution_count": 9,
   "id": "1cacf206",
   "metadata": {},
   "outputs": [],
   "source": [
    "df[['sn', 'fault_time', 'label_gt', 'label_pr', 'True', 'msg']].to_csv('./valid.csv', index=False)"
   ]
  },
  {
   "cell_type": "code",
   "execution_count": 10,
   "id": "bc5e45d1",
   "metadata": {},
   "outputs": [
    {
     "data": {
      "text/plain": [
       "1    14294\n",
       "0     2375\n",
       "Name: True, dtype: int64"
      ]
     },
     "execution_count": 10,
     "metadata": {},
     "output_type": "execute_result"
    }
   ],
   "source": [
    "df['True'].value_counts()"
   ]
  },
  {
   "cell_type": "code",
   "execution_count": 12,
   "id": "c90c0303",
   "metadata": {},
   "outputs": [
    {
     "data": {
      "text/plain": [
       "0->1    808\n",
       "1->0    499\n",
       "2->3    191\n",
       "2->1    188\n",
       "1->2    185\n",
       "3->2    116\n",
       "3->1    109\n",
       "2->0     74\n",
       "0->2     63\n",
       "3->0     55\n",
       "1->3     54\n",
       "0->3     33\n",
       "Name: msg, dtype: int64"
      ]
     },
     "execution_count": 12,
     "metadata": {},
     "output_type": "execute_result"
    }
   ],
   "source": [
    "df[df['True']==0]['msg'].value_counts()"
   ]
  },
  {
   "cell_type": "code",
   "execution_count": 13,
   "id": "2ddfcc78",
   "metadata": {},
   "outputs": [
    {
     "data": {
      "text/plain": [
       "2    9343\n",
       "1    3387\n",
       "3    2463\n",
       "0    1476\n",
       "Name: label_gt, dtype: int64"
      ]
     },
     "execution_count": 13,
     "metadata": {},
     "output_type": "execute_result"
    }
   ],
   "source": [
    "df['label_gt'].value_counts()"
   ]
  },
  {
   "cell_type": "code",
   "execution_count": 14,
   "id": "55f2c671",
   "metadata": {},
   "outputs": [
    {
     "data": {
      "text/plain": [
       "0    904\n",
       "1    738\n",
       "2    453\n",
       "3    280\n",
       "Name: label_gt, dtype: int64"
      ]
     },
     "execution_count": 14,
     "metadata": {},
     "output_type": "execute_result"
    }
   ],
   "source": [
    "df[df['True']==0]['label_gt'].value_counts()"
   ]
  },
  {
   "cell_type": "code",
   "execution_count": 37,
   "id": "e8b73599",
   "metadata": {},
   "outputs": [],
   "source": [
    "import numpy as np\n",
    "a = np.array([0, 1, 2, 3, 0, 1, 2, 3])\n",
    "b = a.copy()"
   ]
  },
  {
   "cell_type": "code",
   "execution_count": 35,
   "id": "2dfd9133",
   "metadata": {},
   "outputs": [],
   "source": [
    "b[(a==0) | (a==1)]\n",
    "b[a==2] = 1\n",
    "b[a==3] = 2"
   ]
  },
  {
   "cell_type": "code",
   "execution_count": 36,
   "id": "ea88abad",
   "metadata": {},
   "outputs": [
    {
     "data": {
      "text/plain": [
       "array([0, 0, 1, 2, 0, 0, 1, 2])"
      ]
     },
     "execution_count": 36,
     "metadata": {},
     "output_type": "execute_result"
    }
   ],
   "source": [
    "b"
   ]
  },
  {
   "cell_type": "code",
   "execution_count": 38,
   "id": "0b9a57f1",
   "metadata": {},
   "outputs": [
    {
     "data": {
      "text/plain": [
       "array([0, 1, 0, 1])"
      ]
     },
     "execution_count": 38,
     "metadata": {},
     "output_type": "execute_result"
    }
   ],
   "source": [
    "b[(a==0) | (a==1)]"
   ]
  },
  {
   "cell_type": "code",
   "execution_count": null,
   "id": "257c71ed",
   "metadata": {},
   "outputs": [],
   "source": []
  }
 ],
 "metadata": {
  "kernelspec": {
   "display_name": "Python [conda env:py39]",
   "language": "python",
   "name": "py39"
  },
  "language_info": {
   "codemirror_mode": {
    "name": "ipython",
    "version": 3
   },
   "file_extension": ".py",
   "mimetype": "text/x-python",
   "name": "python",
   "nbconvert_exporter": "python",
   "pygments_lexer": "ipython3",
   "version": "3.9.6"
  }
 },
 "nbformat": 4,
 "nbformat_minor": 5
}
