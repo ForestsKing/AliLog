{
 "cells": [
  {
   "cell_type": "code",
   "execution_count": 1,
   "id": "aadffb3f",
   "metadata": {},
   "outputs": [],
   "source": [
    "import pandas as pd\n",
    "import numpy as np\n",
    "\n",
    "import warnings\n",
    "warnings.filterwarnings(\"ignore\")\n",
    "\n",
    "from tqdm import tqdm\n",
    "tqdm.pandas()"
   ]
  },
  {
   "cell_type": "code",
   "execution_count": 2,
   "id": "ac22421d",
   "metadata": {},
   "outputs": [],
   "source": [
    "template = pd.read_csv('./dataset/v1/log.log_templates.csv')\n",
    "n_template = len(template)"
   ]
  },
  {
   "cell_type": "code",
   "execution_count": 3,
   "id": "b0ba2b7b",
   "metadata": {},
   "outputs": [],
   "source": [
    "def getSeq(log,logid, num):\n",
    "    logid = list(map(int, logid.split(' ')))\n",
    "    tar = log['EventId'][logid].values[1:]\n",
    "    src = log['EventId'][logid].shift(1).values[1:].astype('int')\n",
    "    \n",
    "    seq = np.zeros((num+1, num+1))\n",
    "    for i in range(len(src)):\n",
    "        seq[src[i],tar[i]] += 1\n",
    "    seq = seq.reshape(-1)\n",
    "\n",
    "    seq = seq / seq.sum()\n",
    "    return seq"
   ]
  },
  {
   "cell_type": "code",
   "execution_count": 4,
   "id": "bd14c13d",
   "metadata": {},
   "outputs": [
    {
     "name": "stderr",
     "output_type": "stream",
     "text": [
      "100%|███████████████████████████████████| 16669/16669 [00:04<00:00, 4114.33it/s]\n",
      "100%|███████████████████████████████████████████| 70/70 [00:21<00:00,  3.19it/s]\n"
     ]
    }
   ],
   "source": [
    "label = pd.read_csv('./dataset/v1/label.csv')\n",
    "train = pd.read_csv('./dataset/v1/train.csv')\n",
    "\n",
    "label['EventSeq'] = label['LogID'].progress_apply(lambda x: getSeq(train, x, n_template))\n",
    "for i in tqdm(range(n_template+1)):\n",
    "    for j in range(n_template+1):\n",
    "        label['Event_Id_'+str(i)+'->'+str(j)] = label['EventSeq'].apply(lambda x: x[i*(n_template+1)+j])\n",
    "        \n",
    "label.drop(['LogID', 'EventSeq'], axis=1, inplace=True)\n",
    "label.to_csv('./dataset/v1/label_pro_1.csv', index=False)"
   ]
  },
  {
   "cell_type": "code",
   "execution_count": 5,
   "id": "bff40f4d",
   "metadata": {},
   "outputs": [
    {
     "name": "stderr",
     "output_type": "stream",
     "text": [
      "100%|█████████████████████████████████████| 3011/3011 [00:00<00:00, 4425.20it/s]\n",
      "100%|███████████████████████████████████████████| 70/70 [00:04<00:00, 14.36it/s]\n"
     ]
    }
   ],
   "source": [
    "submit = pd.read_csv('./dataset/v1/submit.csv')\n",
    "test = pd.read_csv('./dataset/v1/test.csv')\n",
    "\n",
    "submit['EventSeq'] = submit['LogID'].progress_apply(lambda x: getSeq(test, x, n_template))\n",
    "for i in tqdm(range(n_template+1)):\n",
    "    for j in range(n_template+1):\n",
    "        submit['Event_Id_'+str(i)+'->'+str(j)] = submit['EventSeq'].apply(lambda x: x[i*(n_template+1)+j])\n",
    "        \n",
    "submit.drop(['LogID', 'EventSeq'], axis=1, inplace=True)\n",
    "submit.to_csv('./dataset/v1/submit_pro_1.csv', index=False)"
   ]
  },
  {
   "cell_type": "code",
   "execution_count": null,
   "id": "95182c42",
   "metadata": {},
   "outputs": [],
   "source": []
  }
 ],
 "metadata": {
  "kernelspec": {
   "display_name": "Python [conda env:py39]",
   "language": "python",
   "name": "py39"
  },
  "language_info": {
   "codemirror_mode": {
    "name": "ipython",
    "version": 3
   },
   "file_extension": ".py",
   "mimetype": "text/x-python",
   "name": "python",
   "nbconvert_exporter": "python",
   "pygments_lexer": "ipython3",
   "version": "3.9.6"
  }
 },
 "nbformat": 4,
 "nbformat_minor": 5
}
